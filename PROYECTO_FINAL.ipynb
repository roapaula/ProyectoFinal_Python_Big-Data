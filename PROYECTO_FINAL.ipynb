{
  "nbformat": 4,
  "nbformat_minor": 0,
  "metadata": {
    "colab": {
      "provenance": [],
      "toc_visible": true,
      "include_colab_link": true
    },
    "kernelspec": {
      "name": "python3",
      "display_name": "Python 3"
    },
    "language_info": {
      "name": "python"
    }
  },
  "cells": [
    {
      "cell_type": "markdown",
      "metadata": {
        "id": "view-in-github",
        "colab_type": "text"
      },
      "source": [
        "<a href=\"https://colab.research.google.com/github/roapaula/roapaula/blob/main/PROYECTO_FINAL.ipynb\" target=\"_parent\"><img src=\"https://colab.research.google.com/assets/colab-badge.svg\" alt=\"Open In Colab\"/></a>"
      ]
    },
    {
      "cell_type": "markdown",
      "source": [
        "## Proyecto CRISP-DM (Cross-Industry Standard Process for Data Mining):\n",
        " Fases Business Undestanding, EDA & Data Wrangling\n"
      ],
      "metadata": {
        "id": "MWQFKn34o1fc"
      }
    },
    {
      "cell_type": "markdown",
      "source": [
        "A partir del siguiente Dataset se realiza el proceso de investigación y consecución de objetivos de esta Tarea de Investigación.\n",
        "\n",
        "> **Dataset:** https://www.kaggle.com/datasets/arnabchaki/data-science-salaries-2023\n",
        "\n",
        "A partir de estos datos, se pretenden alcanzar los siguientes objetivos sobre la Investigación:\n",
        "\n",
        "- Objetivo 1: Conocer el tipo de categorias de empleo en el area de BIG DATA\n",
        "- Objetivo 2: Si el nivel corresponde a la experiencia\n",
        "- Objetivo 3: Que probabilidad existe que el trabajador desista del trabajo\n",
        "\n"
      ],
      "metadata": {
        "id": "S3jIf_hty0gX"
      }
    },
    {
      "cell_type": "markdown",
      "source": [
        "### Parte 0: Busineess Understanding\n",
        "\n",
        "¿De donde son los datos?\n",
        "¿De qué empresa o institución es?\n",
        "¿Qué vamos a hacer con ello?\n",
        "\n"
      ],
      "metadata": {
        "id": "SosuxAIdpiYK"
      }
    },
    {
      "cell_type": "markdown",
      "source": [
        "### Parte 1.1: Exploración de Datos\n",
        "\n",
        "Este archivo contiene 12 columnas, 5 integer y 7 string  \n",
        "\n",
        "A continuación, expongo los datos:\n",
        "\n",
        "\n",
        "*   work_year . integer\n",
        "*   experience_level . string\n",
        "*   employment_type . string\n",
        "*   job_title . string\n",
        "*   salary . integer\n",
        "*   salary_currency . string\n",
        "*   salary_in_usd . integer\n",
        "*   employee_residence. string\n",
        "*   remote_ratio . integer\n",
        "*   company_location . string\n",
        "*   company_size . integer\n",
        "\n",
        "\n",
        "De los cuales sólo voy a transformar cuatro y voy a crear un quinto campo (predictor)."
      ],
      "metadata": {
        "id": "OO9hobvQp4b_"
      }
    },
    {
      "cell_type": "markdown",
      "source": [
        "### Parte 1.2: Transformación de datos\n",
        "\n",
        "Una vez detectado el tipo de los datos y el objetivo final de cada dato, se codifica la transformación de cada uno.  "
      ],
      "metadata": {
        "id": "HKD07beFqkRr"
      }
    },
    {
      "cell_type": "code",
      "execution_count": null,
      "metadata": {
        "id": "n3R06WC4yyft",
        "colab": {
          "base_uri": "https://localhost:8080/"
        },
        "outputId": "d2cc1060-f7b8-4b96-a183-269333e2d6c2"
      },
      "outputs": [
        {
          "output_type": "stream",
          "name": "stdout",
          "text": [
            "1.0\n",
            "[2023, 1, 78979.24, 2, 1.0]\n",
            "<class 'int'>\n"
          ]
        }
      ],
      "source": [
        "# Paso 0:  Exploración del Dataset y sus variables\n",
        "lineaOrigen = [ 2023 , 'SE' , 'FT' , 'Principal Data Scientist' , 80000 , 'EUR' , 85847 , 'ES' , 100 , 'ES' , 'L' ]\n",
        "# work_year 0,experience_level 1 ,employment_type 2 ,job_title 3,salary 5 ,salary_currency 6 ,salary_in_usd -5 ,employee_residence -4,\n",
        "#remote_ratio - 3 ,company_location -2 ,company_size -1\n",
        "\n",
        "anyo=lineaOrigen[0]\n",
        "tipo_exp= lineaOrigen [1]\n",
        "salary_eur = float(lineaOrigen[-5])\n",
        "origen_co = lineaOrigen[-2]\n",
        "predictor = 0 #out funcion calcula si un empleado sigue o no\n",
        "e= 2.71828\n",
        "m= 37\n",
        "n= 1.32\n",
        "\n",
        "\n",
        "if lineaOrigen[1]=='SE':\n",
        "    tipo_exp=1\n",
        "elif lineaOrigen[1]=='EN':\n",
        "    tipo_exp=2\n",
        "elif lineaOrigen[1]=='EX':\n",
        "    tipo_exp=3\n",
        "else:\n",
        "     tipo_exp=-1\n",
        "\n",
        "if lineaOrigen[-2] =='US':\n",
        "    origen_co = 1\n",
        "elif lineaOrigen[-2]== 'ES':\n",
        "    origen_co = 2\n",
        "else:\n",
        "    origen_co = -1\n",
        "\n",
        "\n",
        "salary_eur = salary_eur * 0.92 #tasa actual de cambio de euros a dólar 20/05\n",
        "\n",
        "predictor= float(1 / (1 + ((e)**-(salary_eur*m+n) )) )\n",
        "#print (predictor)\n",
        "lineaFinal= [anyo, tipo_exp , salary_eur , origen_co , predictor]   #out [año, tipo_exp, salary_eur, origen_co, predictor]\n",
        "print ( lineaFinal )\n",
        "#print (type(lineaOrigen[-5]))\n",
        "\n",
        "\n",
        "\n"
      ]
    },
    {
      "cell_type": "markdown",
      "source": [
        "### Parte 1.3: Transformación de todo el Dataset\n",
        "Una vez conseguido una línea entera transformada, aplicamos un if para iterar en todo el Dataset para que registro a registro se aplique el mismo codigo de transformación"
      ],
      "metadata": {
        "id": "OVA-YhEZrqNQ"
      }
    },
    {
      "cell_type": "code",
      "source": [
        "# Carga de datos\n",
        "            #import pandas as pd  #se necesitan las dos librerias , Pandas y Numpy, en pack\n",
        "            #import numpy as np\n",
        "import csv\n",
        "\n",
        "with open('ds_salaries.csv', newline='') as csvfile:\n",
        "\n",
        "      # Se abre el fichero, y dentro...\n",
        "      salaryreader = csv.reader(csvfile, delimiter=',')        #, quotechar='\"')\n",
        "\n",
        "      next(salaryreader)\n",
        "\n",
        "      for lineaOrigen in salaryreader:\n",
        "          #print(lineaOrigen)\n",
        "\n",
        "          anyo=lineaOrigen[0]\n",
        "          tipo_exp= lineaOrigen [1]\n",
        "          salary_eur = (lineaOrigen[-5])\n",
        "          origen_co = lineaOrigen[-2]\n",
        "          predictor = 0 #out funcion calcula si un empleado sigue o no\n",
        "          e= 2.71828\n",
        "          m= 37\n",
        "          n= 1.32\n",
        "          if lineaOrigen[1]=='SE':\n",
        "              tipo_exp=1\n",
        "          elif lineaOrigen[1]=='EN':\n",
        "              tipo_exp=2\n",
        "          elif lineaOrigen[1]=='EX':\n",
        "              tipo_exp=3\n",
        "          else:\n",
        "              tipo_exp=-1\n",
        "          if lineaOrigen[-2] =='US':\n",
        "              origen_co = 1\n",
        "          elif lineaOrigen[-2]== 'ES':\n",
        "              origen_co = 2\n",
        "          else:\n",
        "              origen_co = -1\n",
        "          salary_eur = round((float(salary_eur) * 0.92),2) #tasa actual de cambio de euros a dólar 20/05\n",
        "          predictor= float(1 / (1 + ((e)**-(salary_eur*m+n) )) )\n",
        "\n",
        "          lineaFinal= [anyo, tipo_exp , salary_eur , origen_co , predictor]   #out [año, tipo_exp, salary_eur, origen_co, predictor]\n",
        "          print ( lineaFinal )\n",
        "\n",
        "print ( lineaFinal )\n",
        "\n",
        "print(salaryreader)\n",
        "\n"
      ],
      "metadata": {
        "id": "-8Ta4bKEq09R"
      },
      "execution_count": null,
      "outputs": []
    },
    {
      "cell_type": "markdown",
      "source": [
        "### Parte 1.4: Creacion de un archivo .csv\n",
        "Creacion de un archivo .csv a a raiz de la transformación de una línea, luego a todos los registros.\n",
        "Finalmente se crea el archivo y se exporta, ***'salaryreader.csv'***"
      ],
      "metadata": {
        "id": "HKVc7igGqxTr"
      }
    },
    {
      "cell_type": "code",
      "source": [
        "#AHORA QUIERO CREAR UN ARCHIVO DE ESCRITURA CON LOS NUEVOS DATOS\n",
        "nombre_archivo = 'salaryreader.csv'\n",
        "\n",
        "# Escribir los datos en el archivo CSV\n",
        "with open(nombre_archivo, 'w', newline='') as archivo_csv:\n",
        "    escritor_csv = csv.writer(archivo_csv)\n",
        "\n",
        "    with open('ds_salaries.csv', newline='') as csvfile:\n",
        "\n",
        "      # Se abre el fichero, y dentro...\n",
        "      salaryreader = csv.reader(csvfile, delimiter=',')        #, quotechar='\"')\n",
        "\n",
        "      next(salaryreader)\n",
        "\n",
        "      for lineaOrigen in salaryreader:\n",
        "          #print(lineaOrigen)\n",
        "\n",
        "          anyo=lineaOrigen[0]\n",
        "          tipo_exp= lineaOrigen [1]\n",
        "          salary_eur = (lineaOrigen[-5])\n",
        "          origen_co = lineaOrigen[-2]\n",
        "          predictor = 0 #out funcion calcula si un empleado sigue o no\n",
        "          e= 2.71828\n",
        "          m= 37\n",
        "          n= 1.32\n",
        "          if lineaOrigen[1]=='SE':\n",
        "              tipo_exp=1\n",
        "          elif lineaOrigen[1]=='EN':\n",
        "              tipo_exp=2\n",
        "          elif lineaOrigen[1]=='EX':\n",
        "              tipo_exp=3\n",
        "          else:\n",
        "              tipo_exp=-1\n",
        "          if lineaOrigen[-2] =='US':\n",
        "              origen_co = 1\n",
        "          elif lineaOrigen[-2]== 'ES':\n",
        "              origen_co = 2\n",
        "          else:\n",
        "              origen_co = -1\n",
        "          salary_eur = round((float(salary_eur) * 0.92),2) #tasa actual de cambio de euros a dólar 20/05\n",
        "          predictor= float(1 / (1 + ((e)**-(salary_eur*m+n) )) )\n",
        "\n",
        "          lineaFinal= [anyo, tipo_exp , salary_eur , origen_co , predictor]   #out [año, tipo_exp, salary_eur, origen_co, predictor]\n",
        "          print ( lineaFinal )\n",
        "          escritor_csv.writerow(lineaFinal)\n",
        "\n",
        "print ( lineaFinal )\n",
        "\n",
        "print(salaryreader)"
      ],
      "metadata": {
        "id": "3OPT2MCwisVk"
      },
      "execution_count": null,
      "outputs": []
    },
    {
      "cell_type": "markdown",
      "source": [
        "### Parte 2: Data Wrangling"
      ],
      "metadata": {
        "id": "kw7kM6torHyg"
      }
    },
    {
      "cell_type": "markdown",
      "source": [
        "### Mi Dataset final va a contener los siguientes datos:\n",
        "* anyo: Int. . Representa el año que recibió el salario indicado en la empresa. Cuantitativa Nominal\n",
        "* tipo_exp: String. Nivel de experiencia. Hay tres variables que se han clasificados: EN, entry; SE, senior,  EX, Executive. Variable cualitativa se transformo a integer\n",
        "\n",
        "*   salary_eur: float. Salario convertido en euros segun la tasa del dia. Cuantitativa.\n",
        "*   origen_co: String. Origen o ciudad donde se encuentra la compañía. Hay tres variables: ES (españa), US (USA), otros. Cualitativa a integer\n",
        "*   predictor: float. Predice si el empleado se queda o se va de la compañia, de acuerdo al salario. Cuantitativa"
      ],
      "metadata": {
        "id": "GxOedI9brZr7"
      }
    },
    {
      "cell_type": "code",
      "source": [
        "# ¿NA son eliminables?\n",
        "# renombrar columnas...\n",
        "# iloc/ filtro de los datos que nos interesan\n",
        "# Crear columnas\n",
        "import pandas as pd\n",
        "\n",
        "df_results = pd.DataFrame(salaryreader)\n",
        "df_results.to_csv('salary_final.csv')\n",
        "#print (salaryreader)"
      ],
      "metadata": {
        "id": "zXBQnzK3rJSg"
      },
      "execution_count": null,
      "outputs": []
    },
    {
      "cell_type": "markdown",
      "source": [
        "## 2.0 Uso de Panda con el archivo creado\n"
      ],
      "metadata": {
        "id": "otQoQdBYr7ox"
      }
    },
    {
      "cell_type": "code",
      "source": [
        "import pandas as pd\n",
        "\n",
        "# Plots"
      ],
      "metadata": {
        "id": "um69oIJdsCcB"
      },
      "execution_count": null,
      "outputs": []
    },
    {
      "cell_type": "markdown",
      "source": [
        "### Conclusiones\n",
        "- En relación al objetivo 1...\n",
        "- Objetivo 2:\n",
        "- ...\n",
        "\n",
        "En resumen, blablabla"
      ],
      "metadata": {
        "id": "mRQV-RvRqtGE"
      }
    }
  ]
}